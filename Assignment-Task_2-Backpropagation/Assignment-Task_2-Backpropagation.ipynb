{
  "nbformat": 4,
  "nbformat_minor": 0,
  "metadata": {
    "colab": {
      "private_outputs": true,
      "provenance": []
    },
    "kernelspec": {
      "name": "python3",
      "display_name": "Python 3"
    },
    "language_info": {
      "name": "python"
    }
  },
  "cells": [
    {
      "cell_type": "code",
      "execution_count": null,
      "metadata": {
        "id": "0bw0OviBHZbS"
      },
      "outputs": [],
      "source": [
        "print(\"https://github.com/AmazingMoaaz/AI323-Computational-Neuroscience\")"
      ]
    },
    {
      "cell_type": "code",
      "source": [
        "import random"
      ],
      "metadata": {
        "id": "U2Mi8LaaHyBT"
      },
      "execution_count": null,
      "outputs": []
    },
    {
      "cell_type": "code",
      "source": [
        "class NeuralNetwork:\n",
        "    def __init__(self, input_size, hidden_size, output_size):\n",
        "        # Initialize weights and biases\n",
        "        self.hidden_weights = [[random.uniform(-0.5, 0.5) for _ in range(input_size)] for _ in range(hidden_size)]\n",
        "        self.output_weights = [[random.uniform(-0.5, 0.5) for _ in range(hidden_size)] for _ in range(output_size)]\n",
        "        self.hidden_biases = [0.5 for _ in range(hidden_size)]\n",
        "        self.output_biases = [0.7 for _ in range(output_size)]\n",
        "        self.learning_rate = 0.1\n",
        "\n",
        "    @staticmethod\n",
        "    def tanh(x):\n",
        "        x = max(min(x, 10), -10)\n",
        "        exp_2x = 2.7182818284590452353602874713527 ** (2 * x)\n",
        "        return (exp_2x - 1) / (exp_2x + 1)\n",
        "\n",
        "    @staticmethod\n",
        "    def tanh_derivative(tanh_output):\n",
        "        return 1.0 - tanh_output ** 2\n",
        "\n",
        "    def forward(self, inputs):\n",
        "        # Store inputs for backpropagation\n",
        "        self.inputs = inputs\n",
        "\n",
        "        # Calculate hidden layer outputs\n",
        "        self.hidden_inputs = []\n",
        "        self.hidden_outputs = []\n",
        "        for i, weights in enumerate(self.hidden_weights):\n",
        "            hidden_input = sum(w * inp for w, inp in zip(weights, inputs)) + self.hidden_biases[i]\n",
        "            self.hidden_inputs.append(hidden_input)\n",
        "            self.hidden_outputs.append(self.tanh(hidden_input))\n",
        "\n",
        "        # Calculate output layer outputs\n",
        "        self.output_inputs = []\n",
        "        self.outputs = []\n",
        "        for i, weights in enumerate(self.output_weights):\n",
        "            output_input = sum(w * h for w, h in zip(weights, self.hidden_outputs)) + self.output_biases[i]\n",
        "            self.output_inputs.append(output_input)\n",
        "            self.outputs.append(self.tanh(output_input))\n",
        "\n",
        "        return self.outputs\n",
        "\n",
        "    def backward(self, targets):\n",
        "        # Calculate output deltas\n",
        "        output_deltas = []\n",
        "        for i, output in enumerate(self.outputs):\n",
        "            error = targets[i] - output\n",
        "            output_deltas.append(error * self.tanh_derivative(output))\n",
        "\n",
        "        # Calculate hidden deltas\n",
        "        hidden_deltas = []\n",
        "        for i in range(len(self.hidden_outputs)):\n",
        "            error = sum(delta * self.output_weights[j][i] for j, delta in enumerate(output_deltas))\n",
        "            hidden_deltas.append(error * self.tanh_derivative(self.hidden_outputs[i]))\n",
        "\n",
        "        # Update output weights and biases\n",
        "        for i, delta in enumerate(output_deltas):\n",
        "            for j in range(len(self.output_weights[i])):\n",
        "                self.output_weights[i][j] += self.learning_rate * delta * self.hidden_outputs[j]\n",
        "            self.output_biases[i] += self.learning_rate * delta\n",
        "\n",
        "        # Update hidden weights and biases\n",
        "        for i, delta in enumerate(hidden_deltas):\n",
        "            for j in range(len(self.hidden_weights[i])):\n",
        "                self.hidden_weights[i][j] += self.learning_rate * delta * self.inputs[j]\n",
        "            self.hidden_biases[i] += self.learning_rate * delta\n",
        "\n",
        "    def calculate_error(self, outputs, targets):\n",
        "        return sum(0.5 * (t - o) ** 2 for t, o in zip(targets, outputs))\n",
        "\n",
        "    def train(self, inputs, targets, epochs):\n",
        "        for epoch in range(epochs):\n",
        "            outputs = self.forward(inputs)\n",
        "            self.backward(targets)\n",
        "\n",
        "            if epoch % 100 == 0:\n",
        "                error = self.calculate_error(outputs, targets)\n",
        "                print(f\"Epoch {epoch}: Total error = {error:.4f}\")\n",
        "\n",
        "        final_outputs = self.forward(inputs)\n",
        "        final_error = self.calculate_error(final_outputs, targets)\n",
        "        return final_outputs, final_error\n",
        "\n",
        "    def get_network_state(self):\n",
        "        return {\n",
        "            'inputs': self.inputs,\n",
        "            'hidden': {\n",
        "                'inputs': self.hidden_inputs,\n",
        "                'outputs': self.hidden_outputs\n",
        "            },\n",
        "            'outputs': {\n",
        "                'inputs': self.output_inputs,\n",
        "                'outputs': self.outputs\n",
        "            }\n",
        "        }"
      ],
      "metadata": {
        "id": "ko4U6sldH0z1"
      },
      "execution_count": null,
      "outputs": []
    },
    {
      "cell_type": "code",
      "source": [
        "if __name__ == \"__main__\":\n",
        "    # Initialize network\n",
        "    network = NeuralNetwork(input_size=2, hidden_size=2, output_size=2)\n",
        "\n",
        "    # Define inputs and targets\n",
        "    inputs = [0.05, 0.10]\n",
        "    targets = [0.01, 0.99]"
      ],
      "metadata": {
        "id": "3H2u577MH22K"
      },
      "execution_count": null,
      "outputs": []
    },
    {
      "cell_type": "code",
      "source": [
        "    print(f\"{'':=^50}\")\n",
        "    print(\"Initial state before training:\")\n",
        "    initial_outputs = network.forward(inputs)\n",
        "    initial_error = network.calculate_error(initial_outputs, targets)\n",
        "\n",
        "    state = network.get_network_state()\n",
        "    print(f\"{'':=^50}\")\n",
        "    print(f\"  Hidden Layer Outputs: h1 = {state['hidden']['outputs'][0]:.4f}, h2 = {state['hidden']['outputs'][1]:.4f}\")\n",
        "    print(f\"  Output Layer Inputs: o1 = {state['outputs']['inputs'][0]:.4f}, o2 = {state['outputs']['inputs'][1]:.4f}\")\n",
        "    print(f\"  Output Layer Outputs: o1 = {state['outputs']['outputs'][0]:.4f}, o2 = {state['outputs']['outputs'][1]:.4f}\")\n",
        "    print(f\"{'':=^50}\")\n",
        "    print(f\"  Error for o1: {0.5 * (targets[0] - initial_outputs[0])**2:.4f}\")\n",
        "    print(f\"  Error for o2: {0.5 * (targets[1] - initial_outputs[1])**2:.4f}\")\n",
        "    print(f\"\\nTotal Error: {initial_error:.4f}\")\n",
        "    print(f\"{'':=^50}\")"
      ],
      "metadata": {
        "id": "qIDtxf7KH4ld"
      },
      "execution_count": null,
      "outputs": []
    },
    {
      "cell_type": "code",
      "source": [
        "    # Train the network\n",
        "    print(\"\\nTraining network for 1000 epochs...\\n\")\n",
        "    final_outputs, final_error = network.train(inputs, targets, 1000)"
      ],
      "metadata": {
        "id": "CNTBVTUuH5WJ"
      },
      "execution_count": null,
      "outputs": []
    },
    {
      "cell_type": "code",
      "source": [
        "    # Display results after training\n",
        "    print(f\"{'':=^50}\")\n",
        "    print(\"Results after training:\")\n",
        "    state = network.get_network_state()\n",
        "    print(f\"{'':=^50}\")\n",
        "    print(f\"  Hidden Layer Outputs: h1 = {state['hidden']['outputs'][0]:.4f}, h2 = {state['hidden']['outputs'][1]:.4f}\")\n",
        "    print(f\"  Output Layer Inputs: o1 = {state['outputs']['inputs'][0]:.4f}, o2 = {state['outputs']['inputs'][1]:.4f}\")\n",
        "    print(f\"  Output Layer Outputs: o1 = {state['outputs']['outputs'][0]:.4f}, o2 = {state['outputs']['outputs'][1]:.4f}\")\n",
        "    print(f\"{'':=^50}\")\n",
        "    print(f\"  Error for o1: {0.5 * (targets[0] - final_outputs[0])**2:.4f}\")\n",
        "    print(f\"  Error for o2: {0.5 * (targets[1] - final_outputs[1])**2:.4f}\")\n",
        "    print(f\"\\nTotal Error: {final_error:.4f}\")\n",
        "    print(f\"{'':=^50}\")"
      ],
      "metadata": {
        "id": "FHVewXCcH6Qx"
      },
      "execution_count": null,
      "outputs": []
    }
  ]
}