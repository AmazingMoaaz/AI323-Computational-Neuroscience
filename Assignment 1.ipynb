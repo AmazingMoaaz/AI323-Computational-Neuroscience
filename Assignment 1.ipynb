{
 "cells": [
  {
   "cell_type": "code",
   "execution_count": 1,
   "metadata": {},
   "outputs": [],
   "source": [
    "import numpy as np"
   ]
  },
  {
   "cell_type": "code",
   "execution_count": 2,
   "metadata": {},
   "outputs": [],
   "source": [
    "# Define tanh activation function\n",
    "def tanh(x):\n",
    "    return np.tanh(x)"
   ]
  },
  {
   "cell_type": "code",
   "execution_count": 3,
   "metadata": {},
   "outputs": [],
   "source": [
    "# Initialize weights randomly in the range [-0.5, 0.5]\n",
    "def init_weight():\n",
    "    return np.random.uniform(-0.5, 0.5)"
   ]
  },
  {
   "cell_type": "code",
   "execution_count": 4,
   "metadata": {},
   "outputs": [],
   "source": [
    "# Network structure\n",
    "network = {\n",
    "    'inputs': {'i1': 0.05, 'i2': 0.10},\n",
    "    'biases': {'b1': 0.5, 'b2': 0.7},\n",
    "    'weights': {\n",
    "        'w1': init_weight(), 'w2': init_weight(),\n",
    "        'w3': init_weight(), 'w4': init_weight(),\n",
    "        'w5': init_weight(), 'w6': init_weight(),\n",
    "        'w7': init_weight(), 'w8': init_weight()\n",
    "    }\n",
    "}"
   ]
  },
  {
   "cell_type": "code",
   "execution_count": 5,
   "metadata": {},
   "outputs": [],
   "source": [
    "def forward_pass(network):\n",
    "    # Hidden layer computations\n",
    "    h1_input = network['inputs']['i1'] * network['weights']['w1'] + network['inputs']['i2'] * network['weights']['w3'] + network['biases']['b1']\n",
    "    h2_input = network['inputs']['i1'] * network['weights']['w2'] + network['inputs']['i2'] * network['weights']['w4'] + network['biases']['b1']\n",
    "    h1_output = tanh(h1_input)\n",
    "    h2_output = tanh(h2_input)\n",
    "\n",
    "    # Output layer computations\n",
    "    o1_input = h1_output * network['weights']['w5'] + h2_output * network['weights']['w7'] + network['biases']['b2']\n",
    "    o2_input = h1_output * network['weights']['w6'] + h2_output * network['weights']['w8'] + network['biases']['b2']\n",
    "    \n",
    "    o1_output = tanh(o1_input)\n",
    "    o2_output = tanh(o2_input)\n",
    "    \n",
    "    return {\n",
    "        'h1_input': h1_input, 'h2_input': h2_input,\n",
    "        'h1_output': h1_output, 'h2_output': h2_output,\n",
    "        'o1_input': o1_input, 'o2_input': o2_input,\n",
    "        'o1_output': o1_output, 'o2_output': o2_output\n",
    "    }"
   ]
  },
  {
   "cell_type": "code",
   "execution_count": 6,
   "metadata": {},
   "outputs": [],
   "source": [
    "def compute_error(results):\n",
    "    target_o1 = 0.01\n",
    "    target_o2 = 0.99\n",
    "    error_o1 = 0.5 * (target_o1 - results['o1_output']) ** 2\n",
    "    error_o2 = 0.5 * (target_o2 - results['o2_output']) ** 2\n",
    "    return error_o1 + error_o2"
   ]
  },
  {
   "cell_type": "code",
   "execution_count": 7,
   "metadata": {},
   "outputs": [
    {
     "name": "stdout",
     "output_type": "stream",
     "text": [
      "Output o1: 0.6264098709610402\n",
      "Output o2: 0.6157476755509717\n"
     ]
    }
   ],
   "source": [
    "# Perform forward pass\n",
    "results = forward_pass(network)\n",
    "print(f\"Output o1: {results['o1_output']}\")\n",
    "print(f\"Output o2: {results['o2_output']}\")"
   ]
  },
  {
   "cell_type": "code",
   "execution_count": 8,
   "metadata": {},
   "outputs": [
    {
     "name": "stdout",
     "output_type": "stream",
     "text": [
      "Error: 0.2600129656868535\n"
     ]
    }
   ],
   "source": [
    "# Compute error\n",
    "error = compute_error(results)\n",
    "print(f\"Error: {error}\")"
   ]
  },
  {
   "cell_type": "code",
   "execution_count": 1,
   "metadata": {},
   "outputs": [
    {
     "name": "stdout",
     "output_type": "stream",
     "text": [
      "https://github.com/AmazingMoaaz/AI323-Computational-Neuroscience\n"
     ]
    }
   ],
   "source": [
    "print(\"https://github.com/AmazingMoaaz/AI323-Computational-Neuroscience\")"
   ]
  },
  {
   "cell_type": "code",
   "execution_count": null,
   "metadata": {},
   "outputs": [],
   "source": []
  }
 ],
 "metadata": {
  "kernelspec": {
   "display_name": "Python 3",
   "language": "python",
   "name": "python3"
  },
  "language_info": {
   "codemirror_mode": {
    "name": "ipython",
    "version": 3
   },
   "file_extension": ".py",
   "mimetype": "text/x-python",
   "name": "python",
   "nbconvert_exporter": "python",
   "pygments_lexer": "ipython3",
   "version": "3.11.5"
  }
 },
 "nbformat": 4,
 "nbformat_minor": 2
}
